{
  "nbformat": 4,
  "nbformat_minor": 0,
  "metadata": {
    "colab": {
      "name": "NavScript",
      "version": "0.3.2",
      "provenance": [],
      "collapsed_sections": []
    },
    "kernelspec": {
      "display_name": "Python 3",
      "language": "python",
      "name": "python3"
    },
    "accelerator": "GPU"
  },
  "cells": [
    {
      "cell_type": "markdown",
      "metadata": {
        "id": "view-in-github",
        "colab_type": "text"
      },
      "source": [
        "[View in Colaboratory](https://colab.research.google.com/github/hdh7485/cnn-text-classification-tf/blob/master/NavScript.ipynb)"
      ]
    },
    {
      "metadata": {
        "id": "RUymE2l9GZfO",
        "colab_type": "text"
      },
      "cell_type": "markdown",
      "source": [
        "##### Copyright 2018 The TensorFlow Hub Authors.\n",
        "\n",
        "Licensed under the Apache License, Version 2.0 (the \"License\");"
      ]
    },
    {
      "metadata": {
        "id": "JMyTNwSJGGWg",
        "colab_type": "code",
        "colab": {}
      },
      "cell_type": "code",
      "source": [
        "# Copyright 2018 The TensorFlow Hub Authors. All Rights Reserved.\n",
        "#\n",
        "# Licensed under the Apache License, Version 2.0 (the \"License\");\n",
        "# you may not use this file except in compliance with the License.\n",
        "# You may obtain a copy of the License at\n",
        "#\n",
        "#     http://www.apache.org/licenses/LICENSE-2.0\n",
        "#\n",
        "# Unless required by applicable law or agreed to in writing, software\n",
        "# distributed under the License is distributed on an \"AS IS\" BASIS,\n",
        "# WITHOUT WARRANTIES OR CONDITIONS OF ANY KIND, either express or implied.\n",
        "# See the License for the specific language governing permissions and\n",
        "# limitations under the License.\n",
        "# =============================================================================="
      ],
      "execution_count": 0,
      "outputs": []
    },
    {
      "metadata": {
        "id": "_u-x-nI5EOXc",
        "colab_type": "code",
        "colab": {
          "base_uri": "https://localhost:8080/",
          "height": 107
        },
        "outputId": "c77dd17b-ea13-4c96-bb14-b5aa1a3026d9"
      },
      "cell_type": "code",
      "source": [
        "!ps ax|grep python"
      ],
      "execution_count": 71,
      "outputs": [
        {
          "output_type": "stream",
          "text": [
            "   89 ?        Sl     0:03 /usr/bin/python2 /usr/local/bin/jupyter-notebook -y --no-browser --log-level=DEBUG --debug --NotebookApp.allow_origin=\"*\" --NotebookApp.log_format=\"%(message)s\" --NotebookApp.token= --Session.key=\"\" --Session.keyfile=\"\" --ContentsManager.untitled_directory=\"Untitled Folder\" --ContentsManager.untitled_file=\"Untitled File\" --ContentsManager.untitled_notebook=\"Untitled Notebook\" --NotebookNotary.algorithm=\"sha1\" --KernelManager.autorestart=True --MultiKernelManager.default_kernel_name=\"python2\" --ip=\"127.0.0.1\" --port=9000 --port-retries=0 --notebook-dir=\"/content\" --NotebookNotary.algorithm=sha256 --NotebookNotary.secret_file=/content/datalab/.config/notary_secret --NotebookApp.base_url=/tun/m/gpu-cc67aecd-ee17-4bb8-8158-8ded892e6622/\r\n",
            "   97 ?        Ssl    5:26 /usr/bin/python3 -m ipykernel_launcher -f /content/.local/share/jupyter/runtime/kernel-b880ed7c-d88e-415c-a2f8-571629d14dce.json\r\n",
            " 9223 pts/0    Ss+    0:01 /bin/sh -c ps ax|grep python\r\n",
            " 9225 pts/0    S+     0:00 grep python\r\n"
          ],
          "name": "stdout"
        }
      ]
    },
    {
      "metadata": {
        "id": "__UZ7CnAedEZ",
        "colab_type": "code",
        "colab": {
          "base_uri": "https://localhost:8080/",
          "height": 87
        },
        "outputId": "e9406b70-da46-4e7f-b72e-ceb26d457e06"
      },
      "cell_type": "code",
      "source": [
        "!ln -sf /opt/bin/nvidia-smi /usr/bin/nvidia-smi\n",
        "!pip install gputil\n",
        "!pip install psutil\n",
        "!pip install humanize"
      ],
      "execution_count": 72,
      "outputs": [
        {
          "output_type": "stream",
          "text": [
            "Requirement already satisfied: gputil in /usr/local/lib/python3.6/dist-packages (1.3.0)\r\n",
            "Requirement already satisfied: numpy in /usr/local/lib/python3.6/dist-packages (from gputil) (1.14.3)\n",
            "Requirement already satisfied: psutil in /usr/local/lib/python3.6/dist-packages (5.4.5)\n",
            "Requirement already satisfied: humanize in /usr/local/lib/python3.6/dist-packages (0.5.1)\n"
          ],
          "name": "stdout"
        }
      ]
    },
    {
      "metadata": {
        "id": "GwnnSLU9eTxe",
        "colab_type": "code",
        "colab": {
          "base_uri": "https://localhost:8080/",
          "height": 52
        },
        "outputId": "a07c94d0-1863-4460-a61c-ad1aac1ee849"
      },
      "cell_type": "code",
      "source": [
        "import psutil\n",
        "import humanize\n",
        "import os\n",
        "import GPUtil as GPU\n",
        "GPUs = GPU.getGPUs()\n",
        "# XXX: only one GPU on Colab and isn’t guaranteed\n",
        "gpu = GPUs[0]\n",
        "def printm():\n",
        "  process = psutil.Process(os.getpid())\n",
        "  print(\"Gen RAM Free: \" + humanize.naturalsize( psutil.virtual_memory().available ), \" I Proc size: \" + humanize.naturalsize( process.memory_info().rss))\n",
        "  print(\"GPU RAM Free: {0:.0f}MB | Used: {1:.0f}MB | Util {2:3.0f}% | Total {3:.0f}MB\".format(gpu.memoryFree, gpu.memoryUsed, gpu.memoryUtil*100, gpu.memoryTotal))\n",
        "printm()"
      ],
      "execution_count": 73,
      "outputs": [
        {
          "output_type": "stream",
          "text": [
            "Gen RAM Free: 8.8 GB  I Proc size: 4.3 GB\n",
            "GPU RAM Free: 548MB | Used: 10891MB | Util  95% | Total 11439MB\n"
          ],
          "name": "stdout"
        }
      ]
    },
    {
      "metadata": {
        "id": "co7MV6sX7Xto",
        "colab_type": "text"
      },
      "cell_type": "markdown",
      "source": [
        "# Universal Sentence Encoder\n",
        "\n",
        "\n",
        "<table align=\"left\"><td>\n",
        "  <a target=\"_blank\"  href=\"https://colab.research.google.com/github/tensorflow/hub/blob/master/examples/colab/semantic_similarity_with_tf_hub_universal_encoder.ipynb\">\n",
        "    <img src=\"https://www.tensorflow.org/images/colab_logo_32px.png\" />Run in Google Colab\n",
        "  </a>\n",
        "</td><td>\n",
        "  <a target=\"_blank\"  href=\"https://github.com/tensorflow/hub/blob/master/examples/colab/semantic_similarity_with_tf_hub_universal_encoder.ipynb\">\n",
        "    <img width=32px src=\"https://www.tensorflow.org/images/GitHub-Mark-32px.png\" />View source on GitHub</a>\n",
        "</td></table>\n"
      ]
    },
    {
      "metadata": {
        "id": "eAVQGidpL8v5",
        "colab_type": "text"
      },
      "cell_type": "markdown",
      "source": [
        "This notebook illustrates how to access the Universal Sentence Encoder and use it for sentence similarity and sentence classification tasks.\n",
        "\n",
        "The Universal Sentence Encoder makes getting sentence level embeddings as easy as it has historically been to lookup the embeddings for individual words. The sentence embeddings can then be trivially used to compute sentence level meaning similarity as well as to enable better performance on downstream classification tasks using less supervised training data.\n"
      ]
    },
    {
      "metadata": {
        "id": "pOTzp8O36CyQ",
        "colab_type": "text"
      },
      "cell_type": "markdown",
      "source": [
        "# Getting Started\n",
        "\n",
        "This section sets up the environment for access to the Universal Sentence Encoder on TF Hub and provides examples of applying the encoder to words, sentences, and paragraphs."
      ]
    },
    {
      "metadata": {
        "id": "lVjNK8shFKOC",
        "colab_type": "code",
        "colab": {
          "base_uri": "https://localhost:8080/",
          "height": 34
        },
        "outputId": "a4967c2e-63e9-4823-ec91-34713bf4e8be"
      },
      "cell_type": "code",
      "source": [
        "# Install the latest Tensorflow version.\n",
        "!pip3 install --quiet \"tensorflow>=1.7\"\n",
        "# Install TF-Hub.\n",
        "!pip3 install --quiet tensorflow-hub\n",
        "!pip3 install seaborn"
      ],
      "execution_count": 74,
      "outputs": [
        {
          "output_type": "stream",
          "text": [
            "Requirement already satisfied: seaborn in /usr/local/lib/python3.6/dist-packages (0.7.1)\r\n"
          ],
          "name": "stdout"
        }
      ]
    },
    {
      "metadata": {
        "id": "63Pd3nJnTl-i",
        "colab_type": "text"
      },
      "cell_type": "markdown",
      "source": [
        "More detailed information about installing Tensorflow can be found at [https://www.tensorflow.org/install/](https://www.tensorflow.org/install/)."
      ]
    },
    {
      "metadata": {
        "id": "MSeY-MUQo2Ha",
        "colab_type": "code",
        "colab": {}
      },
      "cell_type": "code",
      "source": [
        "import tensorflow as tf\n",
        "import tensorflow_hub as hub\n",
        "import matplotlib.pyplot as plt\n",
        "import numpy as np\n",
        "import os\n",
        "import pandas as pd\n",
        "import re\n",
        "import seaborn as sns"
      ],
      "execution_count": 0,
      "outputs": []
    },
    {
      "metadata": {
        "id": "6j1I5msVLY3N",
        "colab_type": "code",
        "colab": {}
      },
      "cell_type": "code",
      "source": [
        "def rmse(predictions, targets):\n",
        "  return np.sqrt(((predictions - targets)**2).mean())"
      ],
      "execution_count": 0,
      "outputs": []
    },
    {
      "metadata": {
        "id": "zwty8Z6mAkdV",
        "colab_type": "code",
        "colab": {}
      },
      "cell_type": "code",
      "source": [
        "# 미리 학습된 모듈의 url\n",
        "module_url = \"https://tfhub.dev/google/universal-sentence-encoder/1\" #@param [\"https://tfhub.dev/google/universal-sentence-encoder/1\", \"https://tfhub.dev/google/universal-sentence-encoder-large/1\"]"
      ],
      "execution_count": 0,
      "outputs": []
    },
    {
      "metadata": {
        "id": "GIGQxCZSsr-a",
        "colab_type": "code",
        "colab": {}
      },
      "cell_type": "code",
      "source": [
        "# Compute a representation for each message, showing various lengths supported.\n",
        "messages = [\"What's the {OTHER:COMMON} for this afternoon?\",\n",
        "            \"What's the {OTHER:COMMON} like on my {OTHER:COMMON}?\",\n",
        "            \"Show me a {OTHER:COMMON} on {LOCATION:PROPER} and {LOCATION:PROPER}.\",\n",
        "            \"Can you find me a {LOCATION:COMMON} with {LOCATION:COMMON} nearby?\",\n",
        "            \"Find a {LOCATION:COMMON} along {LOCATION:COMMON}.\",\n",
        "            \"Find the cheapest indoor {OTHER:COMMON} within 500 meters of my {OTHER:COMMON}.\",\n",
        "            \"Okay, can you find me a {LOCATION:COMMON} on my {OTHER:COMMON} that has a {LOCATION:COMMON}?\",\n",
        "            \"Find {OTHER:COMMON} near {LOCATION:COMMON} that accepts {OTHER:COMMON} and has a {OTHER:COMMON}.\",\n",
        "            \n",
        "            \"Navigate to {LOCATION:PROPER}.\",\n",
        "            \"What's my {OTHER:PROPER} to {LOCATION:COMMON}?\",\n",
        "            \"Show me alternative {OTHER:COMMON}.\",\n",
        "            \"Reroute using {OTHER:PROPER}.\",\n",
        "            \n",
        "            \n",
        "            \"Drive to {LOCATION:PROPER}.\",\n",
        "            \"What's my {OTHER:COMMON}?\",\n",
        "            \"Can I make tomorrow's 10am {EVENT:COMMON} without recharging?\",\n",
        "            \"What's {OTHER:COMMON} like on the {LOCATION:PROPER}?\",\n",
        "            \"Are there any {OTHER:COMMON} on my {OTHER:COMMON}?\",\n",
        "            \"Will it rain tomorrow in {LOCATION:PROPER}?\"\n",
        "            ]\n",
        "\n",
        "# Compute a representation for each message, showing various lengths supported.\n",
        "messages2 = [\"What's the weather forecast for this afternoon?\",\n",
        "            \"What's the traffic like on my route?\",\n",
        "            \"Show me a Traffic Camera on US-101 and Bayshore Blvd.\",\n",
        "            \"Can you find me a gas station with restroom facilities nearby?\",\n",
        "            \"Find a coffee shop along route\",\n",
        "            \"Find the cheapest indoor parking within 500 meters of my destination.\",\n",
        "            \"Okay, can you find me a supermarket on my route that has a charging station?\",\n",
        "            \"Find parking near destination that accepts credit cards and has a valet service.\",\n",
        "            \"Navigate to San Francisco Museum of Modern Art.\",\n",
        "            \"What's my ETA to destination?\",\n",
        "            \"Show me alternative routes.\",\n",
        "            \"Reroute using I-580 East.\",\n",
        "  \n",
        "            \"Drive to Downtown Berkeley.\",\n",
        "            \"What's my drive range?\",\n",
        "            \"Can I make tomorrow's 10am meeting without recharging?\",\n",
        "            \"What's traffic like on the Bay Bridge?\",\n",
        "            \"Are there any speed cameras on my route?\",\n",
        "            \"Will it rain tomorrow in Oakland?\"\n",
        "            ]\n",
        "\n",
        "scripts = [\"[SEARCH FROM:WEATHERFORECAST WHERE:HERE WHEN:AFTERNOON]\",\n",
        "         \"[SEARCH FROM:TRAFFIC WHERE:ONROUTE]\",\n",
        "         \"[SEARCH FROM:TRAFFICCAMERA WHERE:[SEARCH GEOCODE WHERE:”US-101 and Bayshore Blvd”]]\",\n",
        "         \"[SEARCH FROM:GASSTATION WHERE:NEARBY WITH:RESTROOM]\",\n",
        "         \"[SEARCH ONE FROM:COFFEESHOP WHERE:ALONGROUTE]\",\n",
        "         \"[SEARCH ONE FROM:OFFROADPARKING WHERE:DESTINATION RANGE:500M WITH:[SORT PRICE ASC]]\",\n",
        "         \"[SEARCH ONE FROM:SUPERMARKET WHERE:ONROUTE WITH:CHARGINGSTATION]\",\n",
        "         \"[SEARCH ONE FROM:PARKING WITH:CREDITCARD WITH:VALETSERVICE]\",\n",
        "         \"[ROUTE TO:[SEARCH KEYWORD:”San Francisco Museum of Modern Art”]]\",\n",
        "         \"[ROUTE INFO:ETA]\",\n",
        "         \"[ROUTE ALTROUTE]\",\n",
        "         \"[ROUTE ALTROUTE USE:[SEARCH LINKS:ROUTE]]\",\n",
        "         \n",
        "         \"[MODE GUIDANCE WITH:[ROUTE TO:[SEARCH KEYWORD:”Downtown Berkeley”]]]\",\n",
        "         \"[MODE DRIVERANGE]\",\n",
        "         \"[MODE DRIVERANGE TO:[SEARCH KEYWORD:”10AM MEETING” FROM:SCHEDULE WHEN:10AM] WITH:[VOICERESPONSE TEMPLATE:YES/NO*]]\",\n",
        "         \"[MODE TRAFFIC [SEARCH FROM:TRAFFIC WHERE:[SEARCH KEYWORD:”Bay Bridge”]] WITH:[VOICERESPONSE TEMPLATE:””*]\",\n",
        "         \"[MODE SPEEDCAMERA WHERE:ONROUTE WITH:[VOICERESPONSE TEMPLATE:””*]]\",\n",
        "         \"[MODE WEATHERFORECAST WHERE:[SEARCH KEYWORD:”Oakland”] WHEN:TOMORROW]\"\n",
        "          ]"
      ],
      "execution_count": 0,
      "outputs": []
    },
    {
      "metadata": {
        "id": "Q8F4LNGFqOiq",
        "colab_type": "code",
        "colab": {}
      },
      "cell_type": "code",
      "source": [
        "# Import the Universal Sentence Encoder's TF Hub module\n",
        "embed = hub.Module(module_url)\n",
        "\n",
        "# Reduce logging output.\n",
        "tf.logging.set_verbosity(tf.logging.ERROR)\n",
        "\n",
        "#품사 태깅 문장 임베딩\n",
        "with tf.Session() as session:\n",
        "  session.run([tf.global_variables_initializer(), tf.tables_initializer()])\n",
        "  message_embeddings = session.run(embed(messages))\n",
        "  \n",
        "#일반 문장 임베딩\n",
        "with tf.Session() as session:\n",
        "  session.run([tf.global_variables_initializer(), tf.tables_initializer()])\n",
        "  message_embeddings2 = session.run(embed(messages2))"
      ],
      "execution_count": 0,
      "outputs": []
    },
    {
      "metadata": {
        "id": "Pzff6G4YH4jY",
        "colab_type": "code",
        "colab": {
          "base_uri": "https://localhost:8080/",
          "height": 1277
        },
        "outputId": "6f71a725-8ec9-4fed-bff3-e75676b1595a"
      },
      "cell_type": "code",
      "source": [
        "for i, message_embedding in enumerate(np.array(message_embeddings).tolist()):\n",
        "    print(\"Message: {}\".format(messages[i]))\n",
        "    print(\"Embedding size: {}\".format(len(message_embedding)))\n",
        "    message_embedding_snippet = \", \".join(\n",
        "        (str(x) for x in message_embedding[:3]))\n",
        "    print(\"Embedding: [{}, ...]\\n\".format(message_embedding_snippet))"
      ],
      "execution_count": 80,
      "outputs": [
        {
          "output_type": "stream",
          "text": [
            "Message: What's the {OTHER:COMMON} for this afternoon?\n",
            "Embedding size: 512\n",
            "Embedding: [-0.021156975999474525, -0.004225220996886492, -0.016338560730218887, ...]\n",
            "\n",
            "Message: What's the {OTHER:COMMON} like on my {OTHER:COMMON}?\n",
            "Embedding size: 512\n",
            "Embedding: [-0.012699112296104431, 0.0099342567846179, -0.03980620950460434, ...]\n",
            "\n",
            "Message: Show me a {OTHER:COMMON} on {LOCATION:PROPER} and {LOCATION:PROPER}.\n",
            "Embedding size: 512\n",
            "Embedding: [0.004817151930183172, -0.06830794364213943, -0.010058710351586342, ...]\n",
            "\n",
            "Message: Can you find me a {LOCATION:COMMON} with {LOCATION:COMMON} nearby?\n",
            "Embedding size: 512\n",
            "Embedding: [-0.008437147364020348, 0.001783942454494536, -0.007823196239769459, ...]\n",
            "\n",
            "Message: Find a {LOCATION:COMMON} along {LOCATION:COMMON}.\n",
            "Embedding size: 512\n",
            "Embedding: [-0.02695729397237301, -0.03852830082178116, 0.009048445150256157, ...]\n",
            "\n",
            "Message: Find the cheapest indoor {OTHER:COMMON} within 500 meters of my {OTHER:COMMON}.\n",
            "Embedding size: 512\n",
            "Embedding: [0.034149419516325, 0.04965578764677048, -0.047179270535707474, ...]\n",
            "\n",
            "Message: Okay, can you find me a {LOCATION:COMMON} on my {OTHER:COMMON} that has a {LOCATION:COMMON}?\n",
            "Embedding size: 512\n",
            "Embedding: [0.010638812556862831, -0.01721579022705555, -0.018677322193980217, ...]\n",
            "\n",
            "Message: Find {OTHER:COMMON} near {LOCATION:COMMON} that accepts {OTHER:COMMON} and has a {OTHER:COMMON}.\n",
            "Embedding size: 512\n",
            "Embedding: [0.01896820031106472, 0.05586574599146843, -0.024060482159256935, ...]\n",
            "\n",
            "Message: Navigate to {LOCATION:PROPER}.\n",
            "Embedding size: 512\n",
            "Embedding: [-0.010198753327131271, -0.025757528841495514, -0.02141631953418255, ...]\n",
            "\n",
            "Message: What's my {OTHER:PROPER} to {LOCATION:COMMON}?\n",
            "Embedding size: 512\n",
            "Embedding: [-0.004597147926688194, -0.030691783875226974, -0.005170742981135845, ...]\n",
            "\n",
            "Message: Show me alternative {OTHER:COMMON}.\n",
            "Embedding size: 512\n",
            "Embedding: [-0.011924347840249538, 0.04163740202784538, 0.002693099668249488, ...]\n",
            "\n",
            "Message: Reroute using {OTHER:PROPER}.\n",
            "Embedding size: 512\n",
            "Embedding: [0.03117368556559086, -0.025212040171027184, -0.03554099053144455, ...]\n",
            "\n",
            "Message: Drive to {LOCATION:PROPER}.\n",
            "Embedding size: 512\n",
            "Embedding: [-0.006441825069487095, -0.006621553562581539, -0.019340015947818756, ...]\n",
            "\n",
            "Message: What's my {OTHER:COMMON}?\n",
            "Embedding size: 512\n",
            "Embedding: [-0.06926411390304565, -0.014693650417029858, -0.029112406075000763, ...]\n",
            "\n",
            "Message: Can I make tomorrow's 10am {EVENT:COMMON} without recharging?\n",
            "Embedding size: 512\n",
            "Embedding: [-0.06274664402008057, -0.004127134568989277, -0.023207983002066612, ...]\n",
            "\n",
            "Message: What's {OTHER:COMMON} like on the {LOCATION:PROPER}?\n",
            "Embedding size: 512\n",
            "Embedding: [-0.03112798184156418, -0.05279567092657089, -0.039919815957546234, ...]\n",
            "\n",
            "Message: Are there any {OTHER:COMMON} on my {OTHER:COMMON}?\n",
            "Embedding size: 512\n",
            "Embedding: [-0.07142449170351028, 0.05123475193977356, -0.05259934440255165, ...]\n",
            "\n",
            "Message: Will it rain tomorrow in {LOCATION:PROPER}?\n",
            "Embedding size: 512\n",
            "Embedding: [-0.029118189588189125, 0.03167780488729477, -0.045689523220062256, ...]\n",
            "\n"
          ],
          "name": "stdout"
        }
      ]
    },
    {
      "metadata": {
        "id": "4aSYPrPCKMKC",
        "colab_type": "code",
        "colab": {}
      },
      "cell_type": "code",
      "source": [
        "# Compute a representation for each message, showing various lengths supported.\n",
        "test_message = [\"Where is a {OTHER:COMMON} with a {OTHER:COMMON} nearby?\",\n",
        "               \"Find routes to {LOCATION:PROPER}.\",\n",
        "               \"Find routes to {OTHER:COMMON}.\",\n",
        "               \"How is {OTHER:COMMON} in {LOCATION:PROPER} now?\",\n",
        "               \"Find a {LOCATION:COMMON} near the {LOCATION:COMMON} on my {OTHER:COMMON}.\"]\n",
        "\n",
        "test_message2 = [\"Where is a gas station with a restroom facilities nearby?\",\n",
        "               \"Find routes to San Francisco Museum of Modern Art.\",\n",
        "               \"Find routes to gas station.\",\n",
        "               \"How is traffic in Bay Bridge now?\",\n",
        "               \"Find a supermarket near the charging station on my route.\"]\n",
        "\n",
        "test_labels = [3, 8, 8, 15, 6]\n",
        "\n",
        "# Reduce logging output.\n",
        "tf.logging.set_verbosity(tf.logging.ERROR)\n",
        "\n",
        "#테스트용 품사 태깅 문장 임베딩\n",
        "with tf.Session() as session:\n",
        "  session.run([tf.global_variables_initializer(), tf.tables_initializer()])\n",
        "  test_message_embeddings = session.run(embed(test_message))\n",
        "  \n",
        "#테스트용 일반 문장 임베딩\n",
        "with tf.Session() as session:\n",
        "  session.run([tf.global_variables_initializer(), tf.tables_initializer()])\n",
        "  test_message_embeddings2 = session.run(embed(test_message2))"
      ],
      "execution_count": 0,
      "outputs": []
    },
    {
      "metadata": {
        "id": "OAOV5L8ODDWL",
        "colab_type": "code",
        "colab": {
          "base_uri": "https://localhost:8080/",
          "height": 472
        },
        "outputId": "b6bf41be-5bcc-4378-a9ec-0d59c694873d"
      },
      "cell_type": "code",
      "source": [
        "# Word class with symbols\n",
        "print(\"Word class with symbols\")\n",
        "for test_message_embedding, test_label in zip(test_message_embeddings, test_labels):\n",
        "  minimum = 100\n",
        "  minimum_index = 0\n",
        "  for i, message_embedding in enumerate(message_embeddings):\n",
        "    error = rmse(np.array(message_embedding), np.array(test_message_embedding))\n",
        "    if minimum > error:\n",
        "      minimum = error\n",
        "      minimum_index = i\n",
        "\n",
        "  print(\"Minimum RMSE value: {}\".format(minimum))\n",
        "  print(\"Most similar script: {}\".format(scripts[minimum_index]))\n",
        "  print(\"Estimation: {}\".format(minimum_index))\n",
        "  print(\"Answer: {}\\n\".format(test_label))\n"
      ],
      "execution_count": 85,
      "outputs": [
        {
          "output_type": "stream",
          "text": [
            "Word class with symbols\n",
            "Minimum RMSE value: 0.03831955045461655\n",
            "Most similar script: [SEARCH ONE FROM:PARKING WITH:CREDITCARD WITH:VALETSERVICE]\n",
            "Estimation: 7\n",
            "Answer: 3\n",
            "\n",
            "Minimum RMSE value: 0.03203499689698219\n",
            "Most similar script: [ROUTE TO:[SEARCH KEYWORD:”San Francisco Museum of Modern Art”]]\n",
            "Estimation: 8\n",
            "Answer: 8\n",
            "\n",
            "Minimum RMSE value: 0.036623530089855194\n",
            "Most similar script: [ROUTE TO:[SEARCH KEYWORD:”San Francisco Museum of Modern Art”]]\n",
            "Estimation: 8\n",
            "Answer: 8\n",
            "\n",
            "Minimum RMSE value: 0.041374027729034424\n",
            "Most similar script: [MODE TRAFFIC [SEARCH FROM:TRAFFIC WHERE:[SEARCH KEYWORD:”Bay Bridge”]] WITH:[VOICERESPONSE TEMPLATE:””*]\n",
            "Estimation: 15\n",
            "Answer: 15\n",
            "\n",
            "Minimum RMSE value: 0.030955029651522636\n",
            "Most similar script: [SEARCH ONE FROM:COFFEESHOP WHERE:ALONGROUTE]\n",
            "Estimation: 4\n",
            "Answer: 6\n",
            "\n"
          ],
          "name": "stdout"
        }
      ]
    },
    {
      "metadata": {
        "id": "rSwNrd0MDA_-",
        "colab_type": "code",
        "colab": {
          "base_uri": "https://localhost:8080/",
          "height": 472
        },
        "outputId": "434620e8-84dc-47ee-af33-cecaa3f0e8a1"
      },
      "cell_type": "code",
      "source": [
        "# Common nouns\n",
        "print(\"Common nouns\")\n",
        "for test_message_embedding, test_label in zip(test_message_embeddings2, test_labels):\n",
        "  minimum = 100\n",
        "  minimum_index = 0\n",
        "  for i, message_embedding in enumerate(message_embeddings2):\n",
        "    error = rmse(np.array(message_embedding), np.array(test_message_embedding))\n",
        "    if minimum > error:\n",
        "      minimum = error\n",
        "      minimum_index = i\n",
        "\n",
        "  print(\"Minimum RMSE value: {}\".format(minimum))\n",
        "  print(\"Most similar script: {}\".format(scripts[minimum_index]))\n",
        "  print(\"Estimation: {}\".format(minimum_index))\n",
        "  print(\"Answer: {}\\n\".format(test_label))\n"
      ],
      "execution_count": 86,
      "outputs": [
        {
          "output_type": "stream",
          "text": [
            "Common nouns\n",
            "Minimum RMSE value: 0.02820552885532379\n",
            "Most similar script: [SEARCH FROM:GASSTATION WHERE:NEARBY WITH:RESTROOM]\n",
            "Estimation: 3\n",
            "Answer: 3\n",
            "\n",
            "Minimum RMSE value: 0.020899992436170578\n",
            "Most similar script: [ROUTE TO:[SEARCH KEYWORD:”San Francisco Museum of Modern Art”]]\n",
            "Estimation: 8\n",
            "Answer: 8\n",
            "\n",
            "Minimum RMSE value: 0.03728972375392914\n",
            "Most similar script: [SEARCH ONE FROM:SUPERMARKET WHERE:ONROUTE WITH:CHARGINGSTATION]\n",
            "Estimation: 6\n",
            "Answer: 8\n",
            "\n",
            "Minimum RMSE value: 0.022458434104919434\n",
            "Most similar script: [MODE TRAFFIC [SEARCH FROM:TRAFFIC WHERE:[SEARCH KEYWORD:”Bay Bridge”]] WITH:[VOICERESPONSE TEMPLATE:””*]\n",
            "Estimation: 15\n",
            "Answer: 15\n",
            "\n",
            "Minimum RMSE value: 0.026485448703169823\n",
            "Most similar script: [SEARCH ONE FROM:SUPERMARKET WHERE:ONROUTE WITH:CHARGINGSTATION]\n",
            "Estimation: 6\n",
            "Answer: 6\n",
            "\n"
          ],
          "name": "stdout"
        }
      ]
    }
  ]
}